{
 "cells": [
  {
   "cell_type": "markdown",
   "metadata": {},
   "source": [
    "### Data Preprocessing:\n",
    "1. The code begins by importing necessary libraries such as pandas, numpy, matplotlib, seaborn, and various regression models from scikit-learn.\n",
    "2. It reads a CSV file named \"train_data.csv\" into a pandas DataFrame `ds_copy`.\n",
    "3. Missing values are checked and found to be absent in the dataset.\n",
    "4. Three categorical variables ('sex', 'smoker', 'region') are integer-encoded using dictionaries.\n",
    "5. The dataset is then saved back to the CSV file.\n",
    "\n",
    "### Exploratory Data Analysis (EDA):\n",
    "Statistical data visualization is performed using seaborn's heatmap to visualize the correlation matrix of the features in the dataset.\n",
    "\n",
    "### Outlier Detection:\n",
    "1. The code defines a function `diagnostic_plots` to create histograms, Q-Q plots, and boxplots for visualizing potential outliers.\n",
    "2. Outlier detection is performed for variables 'age', 'bmi', and 'charges' using the `diagnostic_plots` function.\n",
    "\n",
    "### Model Building:\n",
    "1. The dataset is split into features (`X`) and target (`y`) variables.\n",
    "2. Several regression models (Linear Regression, Ridge Regression, Lasso Regression, K-Nearest Neighbors, Random Forest, XGBoost, Decision Tree, Gradient Boosting, and Extra Trees) are instantiated.\n",
    "3. Each model is trained on the training data, and its performance metrics such as R-squared, RMSE, and MAE are calculated on both training and testing datasets.\n",
    "4. The results are stored in a DataFrame and saved to a CSV file.\n",
    "5. The best performing models (Random Forest and XGBoost) are saved using pickle.\n",
    "\n",
    "### Variable Importance. The feature importances of the best model (Gradient Boosting Regressor) are plotted and saved to a PNG file.\n",
    "\n",
    "### Model Evaluation with Best Hyperparameters:\n",
    "1. The best hyperparameters for the Gradient Boosting Regressor are loaded from a separate file.\n",
    "2. The model is instantiated with these hyperparameters and trained on the entire dataset.\n",
    "3. Performance metrics (Score, MSE, MAE, R2) are calculated on the training data.\n",
    "4. The metrics are saved to a CSV file.\n",
    "\n",
    "### Final Model. The finalized model (Gradient Boosting Regressor) is saved using pickle.\n",
    "\n",
    "### Conclusion:\n",
    "This code performs end-to-end tasks for predicting personal medical insurance costs, including data preprocessing, exploratory data analysis, model building, evaluation, and finalization. Additionally, it saves important results and models for future use."
   ]
  },
  {
   "cell_type": "markdown",
   "metadata": {},
   "source": [
    "## Data Preprocessing: missing values detection, feature encoding & corelation matrix"
   ]
  },
  {
   "cell_type": "code",
   "execution_count": 1,
   "metadata": {},
   "outputs": [],
   "source": [
    "import pickle"
   ]
  },
  {
   "cell_type": "code",
   "execution_count": 2,
   "metadata": {},
   "outputs": [],
   "source": [
    "import pandas as pd\n",
    "import numpy as np"
   ]
  },
  {
   "cell_type": "code",
   "execution_count": 3,
   "metadata": {},
   "outputs": [],
   "source": [
    "import matplotlib.pyplot as plt\n",
    "# statistical data visualization\n",
    "import seaborn as sns"
   ]
  },
  {
   "cell_type": "code",
   "execution_count": 4,
   "metadata": {},
   "outputs": [],
   "source": [
    "from sklearn.model_selection import ShuffleSplit"
   ]
  },
  {
   "cell_type": "code",
   "execution_count": 5,
   "metadata": {},
   "outputs": [],
   "source": [
    "# scale numerical features to a specified range\n",
    "from sklearn.preprocessing import MinMaxScaler"
   ]
  },
  {
   "cell_type": "code",
   "execution_count": 6,
   "metadata": {},
   "outputs": [],
   "source": [
    "# custom files\n",
    "import columns"
   ]
  },
  {
   "cell_type": "code",
   "execution_count": 7,
   "metadata": {},
   "outputs": [],
   "source": [
    "dataset_path = \"D:/programming/information-technologies-of-smart-systems/term-paper/data/final/train_data.csv\""
   ]
  },
  {
   "cell_type": "code",
   "execution_count": 8,
   "metadata": {},
   "outputs": [],
   "source": [
    "ds_copy = pd.read_csv(dataset_path)"
   ]
  },
  {
   "cell_type": "code",
   "execution_count": 10,
   "metadata": {},
   "outputs": [
    {
     "data": {
      "text/plain": [
       "Unnamed: 0          0\n",
       "airline             0\n",
       "flight              0\n",
       "source_city         0\n",
       "departure_time      0\n",
       "stops               0\n",
       "arrival_time        0\n",
       "destination_city    0\n",
       "class               0\n",
       "duration            0\n",
       "days_left           0\n",
       "price               0\n",
       "dtype: int64"
      ]
     },
     "execution_count": 10,
     "metadata": {},
     "output_type": "execute_result"
    }
   ],
   "source": [
    "# no missing value\n",
    "ds_copy.isnull().sum()"
   ]
  },
  {
   "cell_type": "code",
   "execution_count": null,
   "metadata": {},
   "outputs": [],
   "source": [
    "# dropping the useless column 'Unnamed: 0'\n",
    "ds_copy = ds_copy.drop('Unnamed: 0', axis=1)\n",
    "\n",
    "# dropping the useless column 'flight'\n",
    "ds_copy = ds_copy.drop('flight', axis=1)\n",
    "\n",
    "# rename 'class' name to 'flight_class', because *class* is python reserved name\n",
    "ds_copy.rename(columns={'class': 'flight_class'}, inplace=True)"
   ]
  },
  {
   "cell_type": "code",
   "execution_count": 12,
   "metadata": {},
   "outputs": [],
   "source": [
    "param_dict_path = \"D:/programming/information-technologies-of-smart-systems/term-paper/src/param_dict.pickle\""
   ]
  },
  {
   "cell_type": "code",
   "execution_count": 13,
   "metadata": {},
   "outputs": [],
   "source": [
    "# load parameter dictionary\n",
    "try:\n",
    "    with open(param_dict_path, 'rb') as f:\n",
    "        param_dict = pickle.load(f)\n",
    "except FileNotFoundError:\n",
    "    print(\"Error: Parameter dictionary file not found!\")\n",
    "    exit()"
   ]
  },
  {
   "cell_type": "code",
   "execution_count": 16,
   "metadata": {},
   "outputs": [
    {
     "data": {
      "text/html": [
       "<div>\n",
       "<style scoped>\n",
       "    .dataframe tbody tr th:only-of-type {\n",
       "        vertical-align: middle;\n",
       "    }\n",
       "\n",
       "    .dataframe tbody tr th {\n",
       "        vertical-align: top;\n",
       "    }\n",
       "\n",
       "    .dataframe thead th {\n",
       "        text-align: right;\n",
       "    }\n",
       "</style>\n",
       "<table border=\"1\" class=\"dataframe\">\n",
       "  <thead>\n",
       "    <tr style=\"text-align: right;\">\n",
       "      <th></th>\n",
       "      <th>airline</th>\n",
       "      <th>source_city</th>\n",
       "      <th>departure_time</th>\n",
       "      <th>stops</th>\n",
       "      <th>arrival_time</th>\n",
       "      <th>destination_city</th>\n",
       "      <th>flight_class</th>\n",
       "      <th>duration</th>\n",
       "      <th>days_left</th>\n",
       "      <th>price</th>\n",
       "    </tr>\n",
       "  </thead>\n",
       "  <tbody>\n",
       "    <tr>\n",
       "      <th>0</th>\n",
       "      <td>Vistara</td>\n",
       "      <td>Mumbai</td>\n",
       "      <td>Early_Morning</td>\n",
       "      <td>one</td>\n",
       "      <td>Night</td>\n",
       "      <td>Delhi</td>\n",
       "      <td>Business</td>\n",
       "      <td>13.50</td>\n",
       "      <td>19</td>\n",
       "      <td>53152</td>\n",
       "    </tr>\n",
       "    <tr>\n",
       "      <th>1</th>\n",
       "      <td>Air_India</td>\n",
       "      <td>Kolkata</td>\n",
       "      <td>Afternoon</td>\n",
       "      <td>one</td>\n",
       "      <td>Morning</td>\n",
       "      <td>Hyderabad</td>\n",
       "      <td>Economy</td>\n",
       "      <td>20.42</td>\n",
       "      <td>23</td>\n",
       "      <td>6090</td>\n",
       "    </tr>\n",
       "    <tr>\n",
       "      <th>2</th>\n",
       "      <td>Air_India</td>\n",
       "      <td>Bangalore</td>\n",
       "      <td>Afternoon</td>\n",
       "      <td>one</td>\n",
       "      <td>Evening</td>\n",
       "      <td>Mumbai</td>\n",
       "      <td>Business</td>\n",
       "      <td>29.00</td>\n",
       "      <td>6</td>\n",
       "      <td>44863</td>\n",
       "    </tr>\n",
       "    <tr>\n",
       "      <th>3</th>\n",
       "      <td>Vistara</td>\n",
       "      <td>Bangalore</td>\n",
       "      <td>Early_Morning</td>\n",
       "      <td>one</td>\n",
       "      <td>Night</td>\n",
       "      <td>Hyderabad</td>\n",
       "      <td>Business</td>\n",
       "      <td>14.92</td>\n",
       "      <td>28</td>\n",
       "      <td>56588</td>\n",
       "    </tr>\n",
       "    <tr>\n",
       "      <th>4</th>\n",
       "      <td>Air_India</td>\n",
       "      <td>Mumbai</td>\n",
       "      <td>Night</td>\n",
       "      <td>one</td>\n",
       "      <td>Night</td>\n",
       "      <td>Hyderabad</td>\n",
       "      <td>Economy</td>\n",
       "      <td>26.08</td>\n",
       "      <td>16</td>\n",
       "      <td>4593</td>\n",
       "    </tr>\n",
       "  </tbody>\n",
       "</table>\n",
       "</div>"
      ],
      "text/plain": [
       "     airline source_city departure_time stops arrival_time destination_city  \\\n",
       "0    Vistara      Mumbai  Early_Morning   one        Night            Delhi   \n",
       "1  Air_India     Kolkata      Afternoon   one      Morning        Hyderabad   \n",
       "2  Air_India   Bangalore      Afternoon   one      Evening           Mumbai   \n",
       "3    Vistara   Bangalore  Early_Morning   one        Night        Hyderabad   \n",
       "4  Air_India      Mumbai          Night   one        Night        Hyderabad   \n",
       "\n",
       "  flight_class  duration  days_left  price  \n",
       "0     Business     13.50         19  53152  \n",
       "1      Economy     20.42         23   6090  \n",
       "2     Business     29.00          6  44863  \n",
       "3     Business     14.92         28  56588  \n",
       "4      Economy     26.08         16   4593  "
      ]
     },
     "execution_count": 16,
     "metadata": {},
     "output_type": "execute_result"
    }
   ],
   "source": [
    "ds_copy.head(5)"
   ]
  },
  {
   "cell_type": "code",
   "execution_count": 17,
   "metadata": {},
   "outputs": [],
   "source": [
    "# categorical encoding\n",
    "for column in columns.cat_columns[0:]:\n",
    "    ds_copy[column] = ds_copy[column].map(param_dict['map_dicts'][column])"
   ]
  },
  {
   "cell_type": "code",
   "execution_count": 18,
   "metadata": {},
   "outputs": [
    {
     "data": {
      "text/html": [
       "<div>\n",
       "<style scoped>\n",
       "    .dataframe tbody tr th:only-of-type {\n",
       "        vertical-align: middle;\n",
       "    }\n",
       "\n",
       "    .dataframe tbody tr th {\n",
       "        vertical-align: top;\n",
       "    }\n",
       "\n",
       "    .dataframe thead th {\n",
       "        text-align: right;\n",
       "    }\n",
       "</style>\n",
       "<table border=\"1\" class=\"dataframe\">\n",
       "  <thead>\n",
       "    <tr style=\"text-align: right;\">\n",
       "      <th></th>\n",
       "      <th>airline</th>\n",
       "      <th>source_city</th>\n",
       "      <th>departure_time</th>\n",
       "      <th>stops</th>\n",
       "      <th>arrival_time</th>\n",
       "      <th>destination_city</th>\n",
       "      <th>flight_class</th>\n",
       "      <th>duration</th>\n",
       "      <th>days_left</th>\n",
       "      <th>price</th>\n",
       "    </tr>\n",
       "  </thead>\n",
       "  <tbody>\n",
       "    <tr>\n",
       "      <th>0</th>\n",
       "      <td>5</td>\n",
       "      <td>5</td>\n",
       "      <td>1</td>\n",
       "      <td>1</td>\n",
       "      <td>5</td>\n",
       "      <td>2</td>\n",
       "      <td>0</td>\n",
       "      <td>13.50</td>\n",
       "      <td>19</td>\n",
       "      <td>53152</td>\n",
       "    </tr>\n",
       "    <tr>\n",
       "      <th>1</th>\n",
       "      <td>1</td>\n",
       "      <td>4</td>\n",
       "      <td>0</td>\n",
       "      <td>1</td>\n",
       "      <td>4</td>\n",
       "      <td>3</td>\n",
       "      <td>1</td>\n",
       "      <td>20.42</td>\n",
       "      <td>23</td>\n",
       "      <td>6090</td>\n",
       "    </tr>\n",
       "    <tr>\n",
       "      <th>2</th>\n",
       "      <td>1</td>\n",
       "      <td>0</td>\n",
       "      <td>0</td>\n",
       "      <td>1</td>\n",
       "      <td>2</td>\n",
       "      <td>5</td>\n",
       "      <td>0</td>\n",
       "      <td>29.00</td>\n",
       "      <td>6</td>\n",
       "      <td>44863</td>\n",
       "    </tr>\n",
       "    <tr>\n",
       "      <th>3</th>\n",
       "      <td>5</td>\n",
       "      <td>0</td>\n",
       "      <td>1</td>\n",
       "      <td>1</td>\n",
       "      <td>5</td>\n",
       "      <td>3</td>\n",
       "      <td>0</td>\n",
       "      <td>14.92</td>\n",
       "      <td>28</td>\n",
       "      <td>56588</td>\n",
       "    </tr>\n",
       "    <tr>\n",
       "      <th>4</th>\n",
       "      <td>1</td>\n",
       "      <td>5</td>\n",
       "      <td>5</td>\n",
       "      <td>1</td>\n",
       "      <td>5</td>\n",
       "      <td>3</td>\n",
       "      <td>1</td>\n",
       "      <td>26.08</td>\n",
       "      <td>16</td>\n",
       "      <td>4593</td>\n",
       "    </tr>\n",
       "  </tbody>\n",
       "</table>\n",
       "</div>"
      ],
      "text/plain": [
       "   airline  source_city  departure_time  stops  arrival_time  \\\n",
       "0        5            5               1      1             5   \n",
       "1        1            4               0      1             4   \n",
       "2        1            0               0      1             2   \n",
       "3        5            0               1      1             5   \n",
       "4        1            5               5      1             5   \n",
       "\n",
       "   destination_city  flight_class  duration  days_left  price  \n",
       "0                 2             0     13.50         19  53152  \n",
       "1                 3             1     20.42         23   6090  \n",
       "2                 5             0     29.00          6  44863  \n",
       "3                 3             0     14.92         28  56588  \n",
       "4                 3             1     26.08         16   4593  "
      ]
     },
     "execution_count": 18,
     "metadata": {},
     "output_type": "execute_result"
    }
   ],
   "source": [
    "ds_copy.head(5)"
   ]
  },
  {
   "cell_type": "code",
   "execution_count": 20,
   "metadata": {},
   "outputs": [],
   "source": [
    "ds_copy.to_csv(dataset_path, index=False)"
   ]
  },
  {
   "cell_type": "code",
   "execution_count": 21,
   "metadata": {},
   "outputs": [],
   "source": [
    "# statistical data visualization\n",
    "import seaborn as sns\n",
    "\n",
    "# creating static, animated, and interactive visualizations\n",
    "import matplotlib.pyplot as plt"
   ]
  },
  {
   "cell_type": "code",
   "execution_count": 22,
   "metadata": {},
   "outputs": [
    {
     "data": {
      "image/png": "[encoded data removed]",
      "text/plain": [
       "<Figure size 1000x800 with 2 Axes>"
      ]
     },
     "metadata": {},
     "output_type": "display_data"
    }
   ],
   "source": [
    "# create a subplot with specified figure size\n",
    "f, ax = plt.subplots(figsize=(10, 8))\n",
    "\n",
    "corr = ds_copy.corr()\n",
    "\n",
    "# Create a heatmap of the correlation matrix\n",
    "# Set the mask to hide the upper triangle of the heatmap\n",
    "# Set the color map using seaborn's diverging_palette\n",
    "# Add annotations to display correlation values in each cell\n",
    "# Format annotations to two decimal places\n",
    "sns.heatmap(corr, mask=np.zeros_like(corr, dtype=bool), cmap=sns.diverging_palette(240,10,as_cmap=True),\n",
    "            square=True, ax=ax, annot=True, fmt=\".2f\")\n",
    "\n",
    "ax.set_title('Correlation Matrix')\n",
    "plt.show()"
   ]
  },
  {
   "cell_type": "markdown",
   "metadata": {},
   "source": [
    "## Outlier Engineering\n",
    "\n",
    "1. **diagnostic_plots Function**: This function takes a dataframe `df` and a variable name `variable` as input. It generates three diagnostic plots for the specified variable: Histogram, Q-Q plot (Quantile-Quantile plot), and Boxplot.\n",
    "2. **Histogram**: Shows the distribution of the variable.\n",
    "3. **Q-Q Plot**: Compares the distribution of the variable against a normal distribution. If the data points fall approximately along the diagonal line, the variable is normally distributed.\n",
    "4. **Boxplot**: Provides a visual summary of the central tendency, dispersion, and skewness of the data, and identifies potential outliers.\n",
    "5. **Outlier Detection**: The function `diagnostic_plots` is called three times to generate diagnostic plots for the variables 'age', 'bmi', and 'charges', allowing us to visually identify outliers in the dataset."
   ]
  },
  {
   "cell_type": "code",
   "execution_count": 14,
   "metadata": {},
   "outputs": [],
   "source": [
    "from scipy import stats"
   ]
  },
  {
   "cell_type": "code",
   "execution_count": 23,
   "metadata": {},
   "outputs": [],
   "source": [
    "# function to create histogram, Q-Q plot and\n",
    "def diagnostic_plots(df, variable):\n",
    "    # function takes a dataframe (df) and\n",
    "    # the variable of interest as arguments\n",
    "\n",
    "    # define figure size\n",
    "    plt.figure(figsize=(16, 4))\n",
    "\n",
    "    # histogram\n",
    "    plt.subplot(1, 3, 1)\n",
    "    sns.histplot(df[variable], bins=30, color='lightgreen')\n",
    "    plt.title('Histogram')\n",
    "\n",
    "    # Q-Q plot\n",
    "    plt.subplot(1, 3, 2)\n",
    "    stats.probplot(df[variable], dist=\"norm\", plot=plt)\n",
    "    plt.ylabel('Variable quantiles')\n",
    "    plt.gca().get_lines()[0].set_color('blue')\n",
    "\n",
    "    # boxplot\n",
    "    plt.subplot(1, 3, 3)\n",
    "    sns.boxplot(y=df[variable], color='darkorange')\n",
    "    plt.title('Boxplot')\n",
    "\n",
    "    plt.show()"
   ]
  },
  {
   "cell_type": "code",
   "execution_count": 24,
   "metadata": {},
   "outputs": [
    {
     "data": {
      "text/plain": [
       "airline                 6\n",
       "source_city             6\n",
       "departure_time          6\n",
       "stops                   3\n",
       "arrival_time            6\n",
       "destination_city        6\n",
       "flight_class            2\n",
       "duration              468\n",
       "days_left              49\n",
       "price               11012\n",
       "dtype: int64"
      ]
     },
     "execution_count": 24,
     "metadata": {},
     "output_type": "execute_result"
    }
   ],
   "source": [
    "ds_copy.nunique()"
   ]
  },
  {
   "cell_type": "code",
   "execution_count": 25,
   "metadata": {},
   "outputs": [
    {
     "name": "stderr",
     "output_type": "stream",
     "text": [
      "c:\\Users\\User\\AppData\\Local\\Programs\\Python\\Python311\\Lib\\site-packages\\seaborn\\_oldcore.py:1498: FutureWarning: is_categorical_dtype is deprecated and will be removed in a future version. Use isinstance(dtype, CategoricalDtype) instead\n",
      "  if pd.api.types.is_categorical_dtype(vector):\n",
      "c:\\Users\\User\\AppData\\Local\\Programs\\Python\\Python311\\Lib\\site-packages\\seaborn\\_oldcore.py:1119: FutureWarning: use_inf_as_na option is deprecated and will be removed in a future version. Convert inf values to NaN before operating instead.\n",
      "  with pd.option_context('mode.use_inf_as_na', True):\n",
      "c:\\Users\\User\\AppData\\Local\\Programs\\Python\\Python311\\Lib\\site-packages\\seaborn\\_oldcore.py:1498: FutureWarning: is_categorical_dtype is deprecated and will be removed in a future version. Use isinstance(dtype, CategoricalDtype) instead\n",
      "  if pd.api.types.is_categorical_dtype(vector):\n"
     ]
    },
    {
     "data": {
      "image/png": "[encoded data removed]",
      "text/plain": [
       "<Figure size 1600x400 with 3 Axes>"
      ]
     },
     "metadata": {},
     "output_type": "display_data"
    }
   ],
   "source": [
    "# let's find outliers in feature 'price'\n",
    "diagnostic_plots(ds_copy, 'price')"
   ]
  },
  {
   "cell_type": "code",
   "execution_count": 26,
   "metadata": {},
   "outputs": [
    {
     "name": "stderr",
     "output_type": "stream",
     "text": [
      "c:\\Users\\User\\AppData\\Local\\Programs\\Python\\Python311\\Lib\\site-packages\\seaborn\\_oldcore.py:1498: FutureWarning: is_categorical_dtype is deprecated and will be removed in a future version. Use isinstance(dtype, CategoricalDtype) instead\n",
      "  if pd.api.types.is_categorical_dtype(vector):\n",
      "c:\\Users\\User\\AppData\\Local\\Programs\\Python\\Python311\\Lib\\site-packages\\seaborn\\_oldcore.py:1119: FutureWarning: use_inf_as_na option is deprecated and will be removed in a future version. Convert inf values to NaN before operating instead.\n",
      "  with pd.option_context('mode.use_inf_as_na', True):\n",
      "c:\\Users\\User\\AppData\\Local\\Programs\\Python\\Python311\\Lib\\site-packages\\seaborn\\_oldcore.py:1498: FutureWarning: is_categorical_dtype is deprecated and will be removed in a future version. Use isinstance(dtype, CategoricalDtype) instead\n",
      "  if pd.api.types.is_categorical_dtype(vector):\n"
     ]
    },
    {
     "data": {
      "image/png": "[encoded data removed]",
      "text/plain": [
       "<Figure size 1600x400 with 3 Axes>"
      ]
     },
     "metadata": {},
     "output_type": "display_data"
    }
   ],
   "source": [
    "# let's find outliers in feature 'days_left'\n",
    "diagnostic_plots(ds_copy, 'days_left')"
   ]
  },
  {
   "cell_type": "code",
   "execution_count": 27,
   "metadata": {},
   "outputs": [
    {
     "name": "stderr",
     "output_type": "stream",
     "text": [
      "c:\\Users\\User\\AppData\\Local\\Programs\\Python\\Python311\\Lib\\site-packages\\seaborn\\_oldcore.py:1498: FutureWarning: is_categorical_dtype is deprecated and will be removed in a future version. Use isinstance(dtype, CategoricalDtype) instead\n",
      "  if pd.api.types.is_categorical_dtype(vector):\n",
      "c:\\Users\\User\\AppData\\Local\\Programs\\Python\\Python311\\Lib\\site-packages\\seaborn\\_oldcore.py:1119: FutureWarning: use_inf_as_na option is deprecated and will be removed in a future version. Convert inf values to NaN before operating instead.\n",
      "  with pd.option_context('mode.use_inf_as_na', True):\n",
      "c:\\Users\\User\\AppData\\Local\\Programs\\Python\\Python311\\Lib\\site-packages\\seaborn\\_oldcore.py:1498: FutureWarning: is_categorical_dtype is deprecated and will be removed in a future version. Use isinstance(dtype, CategoricalDtype) instead\n",
      "  if pd.api.types.is_categorical_dtype(vector):\n"
     ]
    },
    {
     "data": {
      "image/png": "[encoded data removed]",
      "text/plain": [
       "<Figure size 1600x400 with 3 Axes>"
      ]
     },
     "metadata": {},
     "output_type": "display_data"
    }
   ],
   "source": [
    "# let's find outliers in feature 'duration'\n",
    "diagnostic_plots(ds_copy, 'duration')"
   ]
  },
  {
   "cell_type": "markdown",
   "metadata": {},
   "source": [
    "## Normalization\n",
    "\n",
    "Normalization is a data preprocessing technique used to scale the features of a dataset to a specific range, typically 0 to 1. This process ensures that all features contribute equally to the analysis and prevents any single feature from dominating due to its scale.\n",
    "\n",
    "\n",
    "\n",
    "1. **Initialize the Scaler**.\n",
    "Create an instance of `MinMaxScaler` to scale the features.\n",
    "\n",
    "2. **Fit the Scaler to the Train Set**\n",
    "   - Select the columns from the dataset that need to be scaled.\n",
    "   - `X_tmp = ds_copy[columns.X_columns]` stores the selected columns in a temporary DataFrame.\n",
    "\n",
    "3. **Transform Train and Test Sets**\n",
    "    - Fit the scaler to the training data and transform it, learning the parameters (minimum and maximum values for each feature).\n",
    "    - `scaler = MinMaxScaler().fit_transform(X_tmp)` performs the fitting and transformation.\n",
    "\n",
    "4. **Store Column Names**\n",
    "    - Extract and store the column names from `X_tmp` to ensure the transformed data has the correct labels.\n",
    "    - `columns_to_replace = X_tmp.columns` saves the column names.\n",
    "\n",
    "5. **Convert to DataFrame**\n",
    "    - Convert the transformed NumPy array back into a DataFrame, retaining the original column names for further processing.\n",
    "    - `X = pd.DataFrame(scaler, columns=X_tmp.columns)` creates a DataFrame with the scaled values.\n",
    "\n",
    "6. **Replace Columns in Original Dataset**\n",
    "    - Iterate over the columns and replace the original values with the scaled values in the copied dataset.\n",
    "    - For each column in `columns_to_replace`, update the corresponding column in `ds_copy` with the scaled values from `X`.\n",
    "\n",
    "7. **Define Target and Features Columns**\n",
    "    - After normalization, reassign the feature columns for the dataset.\n",
    "    - `X = ds_copy[columns.X_columns]` updates `X` to contain the scaled feature columns.\n"
   ]
  },
  {
   "cell_type": "code",
   "execution_count": 15,
   "metadata": {},
   "outputs": [],
   "source": [
    "# normalization\n",
    "scaler = MinMaxScaler()"
   ]
  },
  {
   "cell_type": "code",
   "execution_count": 16,
   "metadata": {},
   "outputs": [],
   "source": [
    "# fit the scaler to the train set, it will learn the parameters\n",
    "X_tmp = ds_copy[columns.X_columns]"
   ]
  },
  {
   "cell_type": "code",
   "execution_count": 17,
   "metadata": {},
   "outputs": [],
   "source": [
    "# transform train and test sets\n",
    "scaler = MinMaxScaler().fit_transform(X_tmp)"
   ]
  },
  {
   "cell_type": "code",
   "execution_count": 18,
   "metadata": {},
   "outputs": [],
   "source": [
    "# list of column names in X_ymp\n",
    "columns_to_replace = X_tmp.columns"
   ]
  },
  {
   "cell_type": "code",
   "execution_count": 19,
   "metadata": {},
   "outputs": [],
   "source": [
    "# let's transform the returned NumPy arrays to dataframes for the rest of the dataset\n",
    "X = pd.DataFrame(scaler, columns=X_tmp.columns)"
   ]
  },
  {
   "cell_type": "code",
   "execution_count": 20,
   "metadata": {},
   "outputs": [
    {
     "data": {
      "text/html": [
       "<div>\n",
       "<style scoped>\n",
       "    .dataframe tbody tr th:only-of-type {\n",
       "        vertical-align: middle;\n",
       "    }\n",
       "\n",
       "    .dataframe tbody tr th {\n",
       "        vertical-align: top;\n",
       "    }\n",
       "\n",
       "    .dataframe thead th {\n",
       "        text-align: right;\n",
       "    }\n",
       "</style>\n",
       "<table border=\"1\" class=\"dataframe\">\n",
       "  <thead>\n",
       "    <tr style=\"text-align: right;\">\n",
       "      <th></th>\n",
       "      <th>airline</th>\n",
       "      <th>source_city</th>\n",
       "      <th>departure_time</th>\n",
       "      <th>stops</th>\n",
       "      <th>arrival_time</th>\n",
       "      <th>destination_city</th>\n",
       "      <th>flight_class</th>\n",
       "      <th>duration</th>\n",
       "      <th>days_left</th>\n",
       "    </tr>\n",
       "  </thead>\n",
       "  <tbody>\n",
       "    <tr>\n",
       "      <th>0</th>\n",
       "      <td>1.0</td>\n",
       "      <td>1.0</td>\n",
       "      <td>0.2</td>\n",
       "      <td>0.5</td>\n",
       "      <td>1.0</td>\n",
       "      <td>0.4</td>\n",
       "      <td>0.0</td>\n",
       "      <td>0.258571</td>\n",
       "      <td>0.375000</td>\n",
       "    </tr>\n",
       "    <tr>\n",
       "      <th>1</th>\n",
       "      <td>0.2</td>\n",
       "      <td>0.8</td>\n",
       "      <td>0.0</td>\n",
       "      <td>0.5</td>\n",
       "      <td>0.8</td>\n",
       "      <td>0.6</td>\n",
       "      <td>1.0</td>\n",
       "      <td>0.399796</td>\n",
       "      <td>0.458333</td>\n",
       "    </tr>\n",
       "    <tr>\n",
       "      <th>2</th>\n",
       "      <td>0.2</td>\n",
       "      <td>0.0</td>\n",
       "      <td>0.0</td>\n",
       "      <td>0.5</td>\n",
       "      <td>0.4</td>\n",
       "      <td>1.0</td>\n",
       "      <td>0.0</td>\n",
       "      <td>0.574898</td>\n",
       "      <td>0.104167</td>\n",
       "    </tr>\n",
       "    <tr>\n",
       "      <th>3</th>\n",
       "      <td>1.0</td>\n",
       "      <td>0.0</td>\n",
       "      <td>0.2</td>\n",
       "      <td>0.5</td>\n",
       "      <td>1.0</td>\n",
       "      <td>0.6</td>\n",
       "      <td>0.0</td>\n",
       "      <td>0.287551</td>\n",
       "      <td>0.562500</td>\n",
       "    </tr>\n",
       "    <tr>\n",
       "      <th>4</th>\n",
       "      <td>0.2</td>\n",
       "      <td>1.0</td>\n",
       "      <td>1.0</td>\n",
       "      <td>0.5</td>\n",
       "      <td>1.0</td>\n",
       "      <td>0.6</td>\n",
       "      <td>1.0</td>\n",
       "      <td>0.515306</td>\n",
       "      <td>0.312500</td>\n",
       "    </tr>\n",
       "  </tbody>\n",
       "</table>\n",
       "</div>"
      ],
      "text/plain": [
       "   airline  source_city  departure_time  stops  arrival_time  \\\n",
       "0      1.0          1.0             0.2    0.5           1.0   \n",
       "1      0.2          0.8             0.0    0.5           0.8   \n",
       "2      0.2          0.0             0.0    0.5           0.4   \n",
       "3      1.0          0.0             0.2    0.5           1.0   \n",
       "4      0.2          1.0             1.0    0.5           1.0   \n",
       "\n",
       "   destination_city  flight_class  duration  days_left  \n",
       "0               0.4           0.0  0.258571   0.375000  \n",
       "1               0.6           1.0  0.399796   0.458333  \n",
       "2               1.0           0.0  0.574898   0.104167  \n",
       "3               0.6           0.0  0.287551   0.562500  \n",
       "4               0.6           1.0  0.515306   0.312500  "
      ]
     },
     "execution_count": 20,
     "metadata": {},
     "output_type": "execute_result"
    }
   ],
   "source": [
    "X.head(5)"
   ]
  },
  {
   "cell_type": "code",
   "execution_count": 21,
   "metadata": {},
   "outputs": [],
   "source": [
    "# iterate over the columns to replace in df_encoded_MinMaxScaler\n",
    "for column in columns_to_replace:\n",
    "    ds_copy[column] = X[column]"
   ]
  },
  {
   "cell_type": "code",
   "execution_count": 22,
   "metadata": {},
   "outputs": [],
   "source": [
    "# define target and features columns\n",
    "X = ds_copy[columns.X_columns]"
   ]
  },
  {
   "cell_type": "markdown",
   "metadata": {},
   "source": [
    "## Model Training and Evaluation\n",
    "- The provided code trains multiple regression models using scikit-learn and XGBoost libraries for predicting price of ticket to flight.\n",
    "- It splits the dataset into training and testing sets, defines regression models, fits them on the training data, and evaluates their performance on both training and testing sets.\n",
    "- It using ShuffleSplit for cross-validation.\n",
    "- Performance metrics such as R-squared, RMSE (Root Mean Squared Error), MAE (Mean Absolute Error), and model training time are calculated and stored in a DataFrame.\n",
    "- The best performing models are saved along with their evaluation results in a CSV file.\n",
    "- Additionally, feature importance is visualized using a bar plot, and the plot is saved as an image file.\n",
    "- The best hyperparameters for the Gradient Boosting Regressor are loaded from a separate file, and the model is trained with these hyperparameters.\n",
    "- Metrics for the trained Random Forest Regressor are calculated and saved in a CSV file.\n",
    "\n",
    "### Model Saving\n",
    "- Trained models are saved using pickle for future use. Random Forest Regressor, Decision Tree and XGBoost Regressor models are saved separately.\n",
    "- The main trained Random Forest Regressor model is saved as well.\n",
    "\n",
    "### File Paths\n",
    "- Paths for saving trained models, evaluation results, and metrics are specified."
   ]
  },
  {
   "cell_type": "markdown",
   "metadata": {},
   "source": [
    "### General imports"
   ]
  },
  {
   "cell_type": "code",
   "execution_count": 23,
   "metadata": {},
   "outputs": [],
   "source": [
    "import sys\n",
    "sys.path.append('D:/programming/information-technologies-of-smart-systems/term-paper/models')\n",
    "\n",
    "# load the parameters from the file\n",
    "from models_best_hyperparameters import params_rf, params_dtree, params_xgb"
   ]
  },
  {
   "cell_type": "code",
   "execution_count": 24,
   "metadata": {},
   "outputs": [],
   "source": [
    "from sklearn.linear_model import LinearRegression, Ridge, Lasso\n",
    "\n",
    "from sklearn.ensemble import RandomForestRegressor, GradientBoostingRegressor\n",
    "from sklearn.tree import DecisionTreeRegressor\n",
    "\n",
    "import xgboost as xgb"
   ]
  },
  {
   "cell_type": "code",
   "execution_count": 25,
   "metadata": {},
   "outputs": [],
   "source": [
    "import time"
   ]
  },
  {
   "cell_type": "code",
   "execution_count": 26,
   "metadata": {},
   "outputs": [],
   "source": [
    "# regression evaluation metrics\n",
    "from sklearn.metrics import r2_score, mean_squared_error, mean_absolute_error"
   ]
  },
  {
   "cell_type": "code",
   "execution_count": 27,
   "metadata": {},
   "outputs": [],
   "source": [
    "# import tools for splitting the dataset into training and testing sets\n",
    "from sklearn.model_selection import train_test_split"
   ]
  },
  {
   "cell_type": "code",
   "execution_count": 28,
   "metadata": {},
   "outputs": [],
   "source": [
    "y = ds_copy[columns.y_column]"
   ]
  },
  {
   "cell_type": "code",
   "execution_count": 29,
   "metadata": {},
   "outputs": [],
   "source": [
    "# split dataset\n",
    "X_train, X_test, y_train, y_test = train_test_split(X, y, test_size=0.2, random_state=42)"
   ]
  },
  {
   "cell_type": "code",
   "execution_count": 30,
   "metadata": {},
   "outputs": [
    {
     "name": "stdout",
     "output_type": "stream",
     "text": [
      "<class 'pandas.core.frame.DataFrame'>\n"
     ]
    }
   ],
   "source": [
    "# check type of y_train\n",
    "print(type(y_train))"
   ]
  },
  {
   "cell_type": "code",
   "execution_count": 31,
   "metadata": {},
   "outputs": [],
   "source": [
    "# convert data to Series\n",
    "if isinstance(y_train, pd.DataFrame):\n",
    "    y_train = y_train.iloc[:, 0]"
   ]
  },
  {
   "cell_type": "code",
   "execution_count": 32,
   "metadata": {},
   "outputs": [
    {
     "name": "stdout",
     "output_type": "stream",
     "text": [
      "<class 'pandas.core.series.Series'>\n"
     ]
    }
   ],
   "source": [
    "# check type of y_train\n",
    "print(type(y_train))"
   ]
  },
  {
   "cell_type": "code",
   "execution_count": 33,
   "metadata": {},
   "outputs": [
    {
     "name": "stdout",
     "output_type": "stream",
     "text": [
      "<class 'pandas.core.frame.DataFrame'>\n"
     ]
    }
   ],
   "source": [
    "# check type of y_train\n",
    "print(type(y_test))"
   ]
  },
  {
   "cell_type": "code",
   "execution_count": 34,
   "metadata": {},
   "outputs": [],
   "source": [
    "# convert data to Series\n",
    "if isinstance(y_test, pd.DataFrame):\n",
    "    y_test = y_test.iloc[:, 0]"
   ]
  },
  {
   "cell_type": "markdown",
   "metadata": {},
   "source": [
    "### A set of different models"
   ]
  },
  {
   "cell_type": "code",
   "execution_count": 45,
   "metadata": {},
   "outputs": [
    {
     "name": "stdout",
     "output_type": "stream",
     "text": [
      "XGBRegressor  ✓\t 9.828 sec\n",
      "LinearRegression  ✓\t 0.938 sec\n",
      "Ridge  ✓\t 0.094 sec\n",
      "Lasso  ✓\t 0.141 sec\n",
      "RandomForestRegressor  ✓\t 63.188 sec\n",
      "DecisionTreeRegressor  ✓\t 0.938 sec\n",
      "GradientBoostingRegressor  ✓\t 15.422 sec\n"
     ]
    },
    {
     "data": {
      "text/html": [
       "<div>\n",
       "<style scoped>\n",
       "    .dataframe tbody tr th:only-of-type {\n",
       "        vertical-align: middle;\n",
       "    }\n",
       "\n",
       "    .dataframe tbody tr th {\n",
       "        vertical-align: top;\n",
       "    }\n",
       "\n",
       "    .dataframe thead th {\n",
       "        text-align: right;\n",
       "    }\n",
       "</style>\n",
       "<table border=\"1\" class=\"dataframe\">\n",
       "  <thead>\n",
       "    <tr style=\"text-align: right;\">\n",
       "      <th></th>\n",
       "      <th>Train_Score</th>\n",
       "      <th>Test_Score</th>\n",
       "      <th>Train_Rmse</th>\n",
       "      <th>Test_Rmse</th>\n",
       "      <th>Train_Mae</th>\n",
       "      <th>Test_Mae</th>\n",
       "      <th>Train_R2</th>\n",
       "      <th>Test_R2</th>\n",
       "    </tr>\n",
       "    <tr>\n",
       "      <th>Algorithm</th>\n",
       "      <th></th>\n",
       "      <th></th>\n",
       "      <th></th>\n",
       "      <th></th>\n",
       "      <th></th>\n",
       "      <th></th>\n",
       "      <th></th>\n",
       "      <th></th>\n",
       "    </tr>\n",
       "  </thead>\n",
       "  <tbody>\n",
       "    <tr>\n",
       "      <th>RandomForestRegressor_baseline</th>\n",
       "      <td>0.997544</td>\n",
       "      <td>0.984557</td>\n",
       "      <td>1124.957141</td>\n",
       "      <td>2830.219156</td>\n",
       "      <td>438.451122</td>\n",
       "      <td>1147.717090</td>\n",
       "      <td>0.997544</td>\n",
       "      <td>0.984557</td>\n",
       "    </tr>\n",
       "    <tr>\n",
       "      <th>DecisionTreeRegressor_baseline</th>\n",
       "      <td>0.999490</td>\n",
       "      <td>0.975575</td>\n",
       "      <td>512.561150</td>\n",
       "      <td>3559.338510</td>\n",
       "      <td>39.954350</td>\n",
       "      <td>1233.443565</td>\n",
       "      <td>0.999490</td>\n",
       "      <td>0.975575</td>\n",
       "    </tr>\n",
       "    <tr>\n",
       "      <th>XGBRegressor_baseline</th>\n",
       "      <td>0.977119</td>\n",
       "      <td>0.974664</td>\n",
       "      <td>3434.022991</td>\n",
       "      <td>3625.113537</td>\n",
       "      <td>1998.277325</td>\n",
       "      <td>2084.251075</td>\n",
       "      <td>0.977119</td>\n",
       "      <td>0.974664</td>\n",
       "    </tr>\n",
       "    <tr>\n",
       "      <th>GradientBoostingRegressor_baseline</th>\n",
       "      <td>0.952353</td>\n",
       "      <td>0.951580</td>\n",
       "      <td>4955.404265</td>\n",
       "      <td>5011.486618</td>\n",
       "      <td>2963.434081</td>\n",
       "      <td>2988.487791</td>\n",
       "      <td>0.952353</td>\n",
       "      <td>0.951580</td>\n",
       "    </tr>\n",
       "    <tr>\n",
       "      <th>LinearRegression_baseline</th>\n",
       "      <td>0.906493</td>\n",
       "      <td>0.904814</td>\n",
       "      <td>6941.970644</td>\n",
       "      <td>7026.538519</td>\n",
       "      <td>4539.251328</td>\n",
       "      <td>4590.242635</td>\n",
       "      <td>0.906493</td>\n",
       "      <td>0.904814</td>\n",
       "    </tr>\n",
       "    <tr>\n",
       "      <th>Ridge_baseline</th>\n",
       "      <td>0.906493</td>\n",
       "      <td>0.904814</td>\n",
       "      <td>6941.970680</td>\n",
       "      <td>7026.541346</td>\n",
       "      <td>4539.204067</td>\n",
       "      <td>4590.195982</td>\n",
       "      <td>0.906493</td>\n",
       "      <td>0.904814</td>\n",
       "    </tr>\n",
       "    <tr>\n",
       "      <th>Lasso_baseline</th>\n",
       "      <td>0.906493</td>\n",
       "      <td>0.904812</td>\n",
       "      <td>6941.978153</td>\n",
       "      <td>7026.586607</td>\n",
       "      <td>4537.481577</td>\n",
       "      <td>4588.521927</td>\n",
       "      <td>0.906493</td>\n",
       "      <td>0.904812</td>\n",
       "    </tr>\n",
       "  </tbody>\n",
       "</table>\n",
       "</div>"
      ],
      "text/plain": [
       "                                    Train_Score  Test_Score   Train_Rmse  \\\n",
       "Algorithm                                                                  \n",
       "RandomForestRegressor_baseline         0.997544    0.984557  1124.957141   \n",
       "DecisionTreeRegressor_baseline         0.999490    0.975575   512.561150   \n",
       "XGBRegressor_baseline                  0.977119    0.974664  3434.022991   \n",
       "GradientBoostingRegressor_baseline     0.952353    0.951580  4955.404265   \n",
       "LinearRegression_baseline              0.906493    0.904814  6941.970644   \n",
       "Ridge_baseline                         0.906493    0.904814  6941.970680   \n",
       "Lasso_baseline                         0.906493    0.904812  6941.978153   \n",
       "\n",
       "                                      Test_Rmse    Train_Mae     Test_Mae  \\\n",
       "Algorithm                                                                   \n",
       "RandomForestRegressor_baseline      2830.219156   438.451122  1147.717090   \n",
       "DecisionTreeRegressor_baseline      3559.338510    39.954350  1233.443565   \n",
       "XGBRegressor_baseline               3625.113537  1998.277325  2084.251075   \n",
       "GradientBoostingRegressor_baseline  5011.486618  2963.434081  2988.487791   \n",
       "LinearRegression_baseline           7026.538519  4539.251328  4590.242635   \n",
       "Ridge_baseline                      7026.541346  4539.204067  4590.195982   \n",
       "Lasso_baseline                      7026.586607  4537.481577  4588.521927   \n",
       "\n",
       "                                    Train_R2   Test_R2  \n",
       "Algorithm                                               \n",
       "RandomForestRegressor_baseline      0.997544  0.984557  \n",
       "DecisionTreeRegressor_baseline      0.999490  0.975575  \n",
       "XGBRegressor_baseline               0.977119  0.974664  \n",
       "GradientBoostingRegressor_baseline  0.952353  0.951580  \n",
       "LinearRegression_baseline           0.906493  0.904814  \n",
       "Ridge_baseline                      0.906493  0.904814  \n",
       "Lasso_baseline                      0.906493  0.904812  "
      ]
     },
     "execution_count": 45,
     "metadata": {},
     "output_type": "execute_result"
    }
   ],
   "source": [
    "# define different models\n",
    "lm = LinearRegression()\n",
    "ridge = Ridge(random_state = 42)\n",
    "lasso = Lasso(random_state = 42)\n",
    "rf = RandomForestRegressor(random_state = 42)\n",
    "xgbt = xgb.XGBRegressor(random_state = 42)\n",
    "dtree = DecisionTreeRegressor(random_state = 42)\n",
    "gbr =  GradientBoostingRegressor(random_state = 42)\n",
    "\n",
    "# list of all regression models\n",
    "algo = [xgbt, lm, ridge, lasso, rf, dtree, gbr]\n",
    "\n",
    "# list for results of previous best models\n",
    "result = []\n",
    "\n",
    "for i in algo:\n",
    "        start = time.process_time()\n",
    "        # fit the model on the training data and calculate performance metrics\n",
    "        ml_model = i.fit(X_train,y_train)\n",
    "        \n",
    "        result.append([str(i).split(\"(\")[0] + str(\"_baseline\"), ml_model.score(X_train, y_train), ml_model.score(X_test, y_test),\n",
    "                  np.sqrt(mean_squared_error(y_train, ml_model.predict(X_train))),\n",
    "                  np.sqrt(mean_squared_error(y_test, ml_model.predict(X_test))),\n",
    "                  mean_absolute_error(y_train, ml_model.predict(X_train)),\n",
    "                  mean_absolute_error(y_test, ml_model.predict(X_test)),\n",
    "                  r2_score(y_train, ml_model.predict(X_train)),\n",
    "                  r2_score(y_test, ml_model.predict(X_test))]),\n",
    "        print(str(i).split(\"(\")[0],\" ✓\\t\", \"{}\".format(round(time.process_time()-start,3)),\"sec\")\n",
    "\n",
    "# create DataFrame from the result list and set the index as Algorithm\n",
    "result = pd.DataFrame(result, columns = [\"Algorithm\", \"Train_Score\", \"Test_Score\", \"Train_Rmse\",\n",
    "                                         \"Test_Rmse\", \"Train_Mae\", \"Test_Mae\", \"Train_R2\", \"Test_R2\"]).sort_values(\"Test_Rmse\").set_index(\"Algorithm\")\n",
    "result"
   ]
  },
  {
   "cell_type": "code",
   "execution_count": 46,
   "metadata": {},
   "outputs": [],
   "source": [
    "results_path = 'D:/programming/information-technologies-of-smart-systems/term-paper/models/models_baseline_results.csv'"
   ]
  },
  {
   "cell_type": "code",
   "execution_count": 47,
   "metadata": {},
   "outputs": [],
   "source": [
    "# save results in csv-file\n",
    "result.to_csv(results_path)"
   ]
  },
  {
   "cell_type": "code",
   "execution_count": 31,
   "metadata": {},
   "outputs": [],
   "source": [
    "# for file saving\n",
    "import pickle"
   ]
  },
  {
   "cell_type": "code",
   "execution_count": 53,
   "metadata": {},
   "outputs": [
    {
     "name": "stdout",
     "output_type": "stream",
     "text": [
      "Model is saved!\n"
     ]
    }
   ],
   "source": [
    "# save additional trained Random Forest Regressor model\n",
    "with open('D:/programming/information-technologies-of-smart-systems/term-paper/models/rf_base_model.sav', 'wb') as file:\n",
    "    pickle.dump(rf, file)\n",
    "    print('Model is saved!')"
   ]
  },
  {
   "cell_type": "code",
   "execution_count": 52,
   "metadata": {},
   "outputs": [
    {
     "name": "stdout",
     "output_type": "stream",
     "text": [
      "Model is saved!\n"
     ]
    }
   ],
   "source": [
    "# save additional trained Decision Tree Regressor\n",
    "with open('D:/programming/information-technologies-of-smart-systems/term-paper/models/dtree_base_model.sav', 'wb') as file:\n",
    "    pickle.dump(dtree, file)\n",
    "    print('Model is saved!')"
   ]
  },
  {
   "cell_type": "code",
   "execution_count": 54,
   "metadata": {},
   "outputs": [
    {
     "name": "stdout",
     "output_type": "stream",
     "text": [
      "Model is saved!\n"
     ]
    }
   ],
   "source": [
    "# save additional trained XGB Regressor model\n",
    "with open('D:/programming/information-technologies-of-smart-systems/term-paper/models/xgb_base_model.sav', 'wb') as file:\n",
    "    pickle.dump(xgbt, file)\n",
    "    print('Model is saved!')"
   ]
  },
  {
   "cell_type": "code",
   "execution_count": 62,
   "metadata": {},
   "outputs": [
    {
     "name": "stderr",
     "output_type": "stream",
     "text": [
      "c:\\Users\\User\\AppData\\Local\\Programs\\Python\\Python311\\Lib\\site-packages\\seaborn\\_oldcore.py:1498: FutureWarning: is_categorical_dtype is deprecated and will be removed in a future version. Use isinstance(dtype, CategoricalDtype) instead\n",
      "  if pd.api.types.is_categorical_dtype(vector):\n",
      "c:\\Users\\User\\AppData\\Local\\Programs\\Python\\Python311\\Lib\\site-packages\\seaborn\\_oldcore.py:1498: FutureWarning: is_categorical_dtype is deprecated and will be removed in a future version. Use isinstance(dtype, CategoricalDtype) instead\n",
      "  if pd.api.types.is_categorical_dtype(vector):\n",
      "c:\\Users\\User\\AppData\\Local\\Programs\\Python\\Python311\\Lib\\site-packages\\seaborn\\_oldcore.py:1498: FutureWarning: is_categorical_dtype is deprecated and will be removed in a future version. Use isinstance(dtype, CategoricalDtype) instead\n",
      "  if pd.api.types.is_categorical_dtype(vector):\n"
     ]
    },
    {
     "data": {
      "image/png": "[encoded data removed]",
      "text/plain": [
       "<Figure size 800x600 with 1 Axes>"
      ]
     },
     "metadata": {},
     "output_type": "display_data"
    }
   ],
   "source": [
    "# plot for feature importance\n",
    "rankings = ml_model.feature_importances_.tolist()\n",
    "importance = pd.DataFrame(sorted(zip(X_train.columns, rankings),\n",
    "                            reverse=True), columns=[\"feature\", \"importance\"]).sort_values(\"importance\",ascending = False)\n",
    "\n",
    "plt.figure(figsize=(8,6))\n",
    "sns.barplot(x=\"importance\",\n",
    "            y=\"feature\",\n",
    "            data=importance[:8])\n",
    "\n",
    "# add R2 values above each bar\n",
    "for i, v in enumerate(importance['importance'][:8]):\n",
    "    plt.text(v, i, f'{v:.4f}', ha='left', va='center', color='black')\n",
    "\n",
    "plt.title('Feature Importance')\n",
    "plt.tight_layout()\n",
    "\n",
    "# save as image to file\n",
    "plt.savefig('D:/programming/information-technologies-of-smart-systems/term-paper/models/feature_baseline_importance.png', format='png', dpi=300)\n",
    "\n",
    "plt.show()"
   ]
  },
  {
   "cell_type": "code",
   "execution_count": 63,
   "metadata": {},
   "outputs": [
    {
     "data": {
      "text/plain": [
       "{'bootstrap': True,\n",
       " 'ccp_alpha': 0.0,\n",
       " 'criterion': 'squared_error',\n",
       " 'max_depth': None,\n",
       " 'max_features': 1.0,\n",
       " 'max_leaf_nodes': None,\n",
       " 'max_samples': None,\n",
       " 'min_impurity_decrease': 0.0,\n",
       " 'min_samples_leaf': 1,\n",
       " 'min_samples_split': 2,\n",
       " 'min_weight_fraction_leaf': 0.0,\n",
       " 'monotonic_cst': None,\n",
       " 'n_estimators': 100,\n",
       " 'n_jobs': None,\n",
       " 'oob_score': False,\n",
       " 'random_state': 42,\n",
       " 'verbose': 0,\n",
       " 'warm_start': False}"
      ]
     },
     "execution_count": 63,
     "metadata": {},
     "output_type": "execute_result"
    }
   ],
   "source": [
    "# display baseline model params\n",
    "rf.get_params()"
   ]
  },
  {
   "cell_type": "code",
   "execution_count": 64,
   "metadata": {},
   "outputs": [
    {
     "data": {
      "text/plain": [
       "{'ccp_alpha': 0.0,\n",
       " 'criterion': 'squared_error',\n",
       " 'max_depth': None,\n",
       " 'max_features': None,\n",
       " 'max_leaf_nodes': None,\n",
       " 'min_impurity_decrease': 0.0,\n",
       " 'min_samples_leaf': 1,\n",
       " 'min_samples_split': 2,\n",
       " 'min_weight_fraction_leaf': 0.0,\n",
       " 'monotonic_cst': None,\n",
       " 'random_state': 42,\n",
       " 'splitter': 'best'}"
      ]
     },
     "execution_count": 64,
     "metadata": {},
     "output_type": "execute_result"
    }
   ],
   "source": [
    "# display baseline model params\n",
    "dtree.get_params()"
   ]
  },
  {
   "cell_type": "code",
   "execution_count": 66,
   "metadata": {},
   "outputs": [
    {
     "data": {
      "text/plain": [
       "{'objective': 'reg:squarederror',\n",
       " 'base_score': None,\n",
       " 'booster': None,\n",
       " 'callbacks': None,\n",
       " 'colsample_bylevel': None,\n",
       " 'colsample_bynode': None,\n",
       " 'colsample_bytree': None,\n",
       " 'device': None,\n",
       " 'early_stopping_rounds': None,\n",
       " 'enable_categorical': False,\n",
       " 'eval_metric': None,\n",
       " 'feature_types': None,\n",
       " 'gamma': None,\n",
       " 'grow_policy': None,\n",
       " 'importance_type': None,\n",
       " 'interaction_constraints': None,\n",
       " 'learning_rate': None,\n",
       " 'max_bin': None,\n",
       " 'max_cat_threshold': None,\n",
       " 'max_cat_to_onehot': None,\n",
       " 'max_delta_step': None,\n",
       " 'max_depth': None,\n",
       " 'max_leaves': None,\n",
       " 'min_child_weight': None,\n",
       " 'missing': nan,\n",
       " 'monotone_constraints': None,\n",
       " 'multi_strategy': None,\n",
       " 'n_estimators': None,\n",
       " 'n_jobs': None,\n",
       " 'num_parallel_tree': None,\n",
       " 'random_state': 42,\n",
       " 'reg_alpha': None,\n",
       " 'reg_lambda': None,\n",
       " 'sampling_method': None,\n",
       " 'scale_pos_weight': None,\n",
       " 'subsample': None,\n",
       " 'tree_method': None,\n",
       " 'validate_parameters': None,\n",
       " 'verbosity': None}"
      ]
     },
     "execution_count": 66,
     "metadata": {},
     "output_type": "execute_result"
    }
   ],
   "source": [
    "# display baseline model params\n",
    "xgbt.get_params()"
   ]
  },
  {
   "cell_type": "markdown",
   "metadata": {},
   "source": [
    "### Tuned Random Forest Regressor"
   ]
  },
  {
   "cell_type": "code",
   "execution_count": 35,
   "metadata": {},
   "outputs": [],
   "source": [
    "# split data \n",
    "X_train, X_test, y_train, y_test = train_test_split(X, y, test_size=0.2, random_state=42)"
   ]
  },
  {
   "cell_type": "code",
   "execution_count": 36,
   "metadata": {},
   "outputs": [
    {
     "name": "stdout",
     "output_type": "stream",
     "text": [
      "<class 'pandas.core.frame.DataFrame'>\n"
     ]
    }
   ],
   "source": [
    "# check type of y_train\n",
    "print(type(y_train))"
   ]
  },
  {
   "cell_type": "code",
   "execution_count": 37,
   "metadata": {},
   "outputs": [],
   "source": [
    "# convert data to Series\n",
    "if isinstance(y_train, pd.DataFrame):\n",
    "    y_train = y_train.iloc[:, 0]"
   ]
  },
  {
   "cell_type": "code",
   "execution_count": 38,
   "metadata": {},
   "outputs": [
    {
     "name": "stdout",
     "output_type": "stream",
     "text": [
      "<class 'pandas.core.series.Series'>\n"
     ]
    }
   ],
   "source": [
    "# check type of y_train\n",
    "print(type(y_train))"
   ]
  },
  {
   "cell_type": "code",
   "execution_count": 39,
   "metadata": {},
   "outputs": [
    {
     "name": "stdout",
     "output_type": "stream",
     "text": [
      "<class 'pandas.core.frame.DataFrame'>\n"
     ]
    }
   ],
   "source": [
    "# check type of y_train\n",
    "print(type(y_test))"
   ]
  },
  {
   "cell_type": "code",
   "execution_count": 40,
   "metadata": {},
   "outputs": [],
   "source": [
    "# convert data to Series\n",
    "if isinstance(y_test, pd.DataFrame):\n",
    "    y_test = y_test.iloc[:, 0]"
   ]
  },
  {
   "cell_type": "code",
   "execution_count": 41,
   "metadata": {},
   "outputs": [
    {
     "name": "stdout",
     "output_type": "stream",
     "text": [
      "<class 'pandas.core.series.Series'>\n"
     ]
    }
   ],
   "source": [
    "# check type of y_train\n",
    "print(type(y_test))"
   ]
  },
  {
   "cell_type": "code",
   "execution_count": 42,
   "metadata": {},
   "outputs": [],
   "source": [
    "# function to format score_train in desired pattern\n",
    "def format_score(score):\n",
    "    return \"{:.6f}\".format(score)"
   ]
  },
  {
   "cell_type": "code",
   "execution_count": 43,
   "metadata": {},
   "outputs": [
    {
     "name": "stdout",
     "output_type": "stream",
     "text": [
      "  Metric      Train Data\n",
      "0  Score        0.994038\n",
      "1    MSE  3072902.742982\n",
      "2    MAE      721.651477\n",
      "3     R2        0.994038\n"
     ]
    }
   ],
   "source": [
    "rf = RandomForestRegressor(**params_rf, random_state = 42).fit(X_train, y_train)\n",
    "\n",
    "Y_train_pred = rf.predict(X_train)\n",
    "\n",
    "# calculating metrics\n",
    "score_train = rf.score(X_train, y_train)\n",
    "mse_train = mean_squared_error(y_train, Y_train_pred)\n",
    "mae_train = mean_absolute_error(y_train, Y_train_pred)\n",
    "r2_train = r2_score(y_train, Y_train_pred)\n",
    "\n",
    "# Displaying metrics in a grid\n",
    "metrics_df = pd.DataFrame({\n",
    "    'Metric': ['Score', 'MSE', 'MAE', 'R2'],\n",
    "    'Train Data': [format_score(score_train), mse_train, mae_train, r2_train]\n",
    "})\n",
    "\n",
    "print(metrics_df)"
   ]
  },
  {
   "cell_type": "code",
   "execution_count": 44,
   "metadata": {},
   "outputs": [
    {
     "name": "stderr",
     "output_type": "stream",
     "text": [
      "c:\\Users\\User\\AppData\\Local\\Programs\\Python\\Python311\\Lib\\site-packages\\sklearn\\base.py:1474: DataConversionWarning: A column-vector y was passed when a 1d array was expected. Please change the shape of y to (n_samples,), for example using ravel().\n",
      "  return fit_method(estimator, *args, **kwargs)\n",
      "c:\\Users\\User\\AppData\\Local\\Programs\\Python\\Python311\\Lib\\site-packages\\sklearn\\base.py:1474: DataConversionWarning: A column-vector y was passed when a 1d array was expected. Please change the shape of y to (n_samples,), for example using ravel().\n",
      "  return fit_method(estimator, *args, **kwargs)\n",
      "c:\\Users\\User\\AppData\\Local\\Programs\\Python\\Python311\\Lib\\site-packages\\sklearn\\base.py:1474: DataConversionWarning: A column-vector y was passed when a 1d array was expected. Please change the shape of y to (n_samples,), for example using ravel().\n",
      "  return fit_method(estimator, *args, **kwargs)\n",
      "c:\\Users\\User\\AppData\\Local\\Programs\\Python\\Python311\\Lib\\site-packages\\sklearn\\base.py:1474: DataConversionWarning: A column-vector y was passed when a 1d array was expected. Please change the shape of y to (n_samples,), for example using ravel().\n",
      "  return fit_method(estimator, *args, **kwargs)\n",
      "c:\\Users\\User\\AppData\\Local\\Programs\\Python\\Python311\\Lib\\site-packages\\sklearn\\base.py:1474: DataConversionWarning: A column-vector y was passed when a 1d array was expected. Please change the shape of y to (n_samples,), for example using ravel().\n",
      "  return fit_method(estimator, *args, **kwargs)\n"
     ]
    },
    {
     "name": "stdout",
     "output_type": "stream",
     "text": [
      "  Metric      Train Data       Test Data\n",
      "0  Score        0.997511        0.984844\n",
      "1    MSE  1284849.666489  7816509.613863\n",
      "2    MAE      441.798409     1143.564963\n",
      "3     R2        0.997511        0.984844\n"
     ]
    }
   ],
   "source": [
    "# initialize ShuffleSplit with desired parameters\n",
    "shuffle_split = ShuffleSplit(n_splits=5, test_size=0.2, random_state=42)\n",
    "\n",
    "# initialize lists to store evaluation metrics\n",
    "train_scores = []\n",
    "test_scores = []\n",
    "train_mses = []\n",
    "test_mses = []\n",
    "train_maes = []\n",
    "test_maes = []\n",
    "train_r2s = []\n",
    "test_r2s = []\n",
    "\n",
    "for train_index, test_index in shuffle_split.split(X):\n",
    "    X_train, X_test = X.iloc[train_index], X.iloc[test_index]\n",
    "    y_train, y_test = y.iloc[train_index], y.iloc[test_index]\n",
    "    \n",
    "    rf = RandomForestRegressor(random_state=42).fit(X_train, y_train)\n",
    "\n",
    "    y_train_pred = rf.predict(X_train)\n",
    "    y_test_pred = rf.predict(X_test)\n",
    "\n",
    "    # calculating metrics for train and test sets\n",
    "    train_score = rf.score(X_train, y_train)\n",
    "    test_score = rf.score(X_test, y_test)\n",
    "\n",
    "    train_mse = mean_squared_error(y_train, y_train_pred)\n",
    "    test_mse = mean_squared_error(y_test, y_test_pred)\n",
    "\n",
    "    train_mae = mean_absolute_error(y_train, y_train_pred)\n",
    "    test_mae = mean_absolute_error(y_test, y_test_pred)\n",
    "\n",
    "    train_r2 = r2_score(y_train, y_train_pred)\n",
    "    test_r2 = r2_score(y_test, y_test_pred)\n",
    "\n",
    "    # append metrics to lists\n",
    "    train_scores.append(train_score)\n",
    "    test_scores.append(test_score)\n",
    "    train_mses.append(train_mse)\n",
    "    test_mses.append(test_mse)\n",
    "    train_maes.append(train_mae)\n",
    "    test_maes.append(test_mae)\n",
    "    train_r2s.append(train_r2)\n",
    "    test_r2s.append(test_r2)\n",
    "\n",
    "# average the metrics over all splits\n",
    "avg_train_score = np.mean(train_scores)\n",
    "avg_test_score = np.mean(test_scores)\n",
    "avg_train_mse = np.mean(train_mses)\n",
    "avg_test_mse = np.mean(test_mses)\n",
    "avg_train_mae = np.mean(train_maes)\n",
    "avg_test_mae = np.mean(test_maes)\n",
    "avg_train_r2 = np.mean(train_r2s)\n",
    "avg_test_r2 = np.mean(test_r2s)\n",
    "\n",
    "\n",
    "# displaying metrics in a grid\n",
    "metrics_df = pd.DataFrame({\n",
    "    'Metric': ['Score', 'MSE', 'MAE', 'R2'],\n",
    "    'Train Data': [format_score(avg_train_score), avg_train_mse, avg_train_mae, avg_train_r2],\n",
    "    'Test Data': [format_score(avg_test_score), avg_test_mse, avg_test_mae, avg_test_r2]\n",
    "})\n",
    "\n",
    "print(metrics_df)"
   ]
  },
  {
   "cell_type": "code",
   "execution_count": null,
   "metadata": {},
   "outputs": [],
   "source": [
    "# plot for feature importance\n",
    "rankings = ml_model.feature_importances_.tolist()\n",
    "importance = pd.DataFrame(sorted(zip(X_train.columns, rankings),\n",
    "                            reverse=True), columns=[\"feature\", \"importance\"]).sort_values(\"importance\",ascending = False)\n",
    "\n",
    "plt.figure(figsize=(8,6))\n",
    "sns.barplot(x=\"importance\",\n",
    "            y=\"feature\",\n",
    "            data=importance[:8])\n",
    "\n",
    "# add R2 values above each bar\n",
    "for i, v in enumerate(importance['importance'][:8]):\n",
    "    plt.text(v, i, f'{v:.4f}', ha='left', va='center', color='black')\n",
    "\n",
    "plt.title('Feature Importance for Random Forest Tuned Regressor')\n",
    "plt.tight_layout()\n",
    "\n",
    "# save as image to file\n",
    "plt.savefig('D:/programming/information-technologies-of-smart-systems/term-paper/models/feature_rf_tuned_importance.png', format='png', dpi=300)\n",
    "\n",
    "plt.show()"
   ]
  },
  {
   "cell_type": "code",
   "execution_count": 73,
   "metadata": {},
   "outputs": [
    {
     "name": "stdout",
     "output_type": "stream",
     "text": [
      "Metrics have been saved to: D:/programming/information-technologies-of-smart-systems/term-paper/models/random-forest-metrics.csv\n"
     ]
    }
   ],
   "source": [
    "# define the file path\n",
    "file_path = 'D:/programming/information-technologies-of-smart-systems/term-paper/models/random-forest-metrics.csv'\n",
    "\n",
    "# save the DataFrame to a CSV file\n",
    "metrics_df.to_csv(file_path, index=False)\n",
    "\n",
    "# print a message confirming the file has been saved\n",
    "print(\"Metrics have been saved to:\", file_path)"
   ]
  },
  {
   "cell_type": "code",
   "execution_count": 45,
   "metadata": {},
   "outputs": [],
   "source": [
    "# filepath for main trained model\n",
    "rf_final_path = 'D:/programming/information-technologies-of-smart-systems/term-paper/models/finalized_rf_model.sav'"
   ]
  },
  {
   "cell_type": "code",
   "execution_count": 46,
   "metadata": {},
   "outputs": [],
   "source": [
    "# save main trained Random Forest Regressor model\n",
    "with open(rf_final_path, 'wb') as file:\n",
    "    pickle.dump(rf, file)"
   ]
  },
  {
   "cell_type": "markdown",
   "metadata": {},
   "source": [
    "### Tuned Decision Tree Regressor"
   ]
  },
  {
   "cell_type": "code",
   "execution_count": 47,
   "metadata": {},
   "outputs": [],
   "source": [
    "# split data \n",
    "X_train, X_test, y_train, y_test = train_test_split(X, y, test_size=0.2, random_state=42)"
   ]
  },
  {
   "cell_type": "code",
   "execution_count": 48,
   "metadata": {},
   "outputs": [
    {
     "name": "stdout",
     "output_type": "stream",
     "text": [
      "<class 'pandas.core.frame.DataFrame'>\n"
     ]
    }
   ],
   "source": [
    "# check type of y_train\n",
    "print(type(y_train))"
   ]
  },
  {
   "cell_type": "code",
   "execution_count": 49,
   "metadata": {},
   "outputs": [],
   "source": [
    "# convert data to Series\n",
    "if isinstance(y_train, pd.DataFrame):\n",
    "    y_train = y_train.iloc[:, 0]"
   ]
  },
  {
   "cell_type": "code",
   "execution_count": 50,
   "metadata": {},
   "outputs": [
    {
     "name": "stdout",
     "output_type": "stream",
     "text": [
      "<class 'pandas.core.series.Series'>\n"
     ]
    }
   ],
   "source": [
    "# check type of y_train\n",
    "print(type(y_train))"
   ]
  },
  {
   "cell_type": "code",
   "execution_count": 51,
   "metadata": {},
   "outputs": [
    {
     "name": "stdout",
     "output_type": "stream",
     "text": [
      "<class 'pandas.core.frame.DataFrame'>\n"
     ]
    }
   ],
   "source": [
    "# check type of y_train\n",
    "print(type(y_test))"
   ]
  },
  {
   "cell_type": "code",
   "execution_count": 52,
   "metadata": {},
   "outputs": [],
   "source": [
    "# convert data to Series\n",
    "if isinstance(y_test, pd.DataFrame):\n",
    "    y_test = y_test.iloc[:, 0]"
   ]
  },
  {
   "cell_type": "code",
   "execution_count": 53,
   "metadata": {},
   "outputs": [
    {
     "name": "stdout",
     "output_type": "stream",
     "text": [
      "<class 'pandas.core.series.Series'>\n"
     ]
    }
   ],
   "source": [
    "# check type of y_train\n",
    "print(type(y_test))"
   ]
  },
  {
   "cell_type": "code",
   "execution_count": 54,
   "metadata": {},
   "outputs": [
    {
     "name": "stdout",
     "output_type": "stream",
     "text": [
      "  Metric      Train Data       Test Data\n",
      "0  Score        0.990959        0.981902\n",
      "1    MSE  4666416.795227  9333686.400281\n",
      "2    MAE      862.867537     1269.055701\n",
      "3     R2        0.990959        0.981902\n"
     ]
    }
   ],
   "source": [
    "# initialize ShuffleSplit with desired parameters\n",
    "shuffle_split = ShuffleSplit(n_splits=5, test_size=0.2, random_state=42)\n",
    "\n",
    "# initialize lists to store evaluation metrics\n",
    "train_scores = []\n",
    "test_scores = []\n",
    "train_mses = []\n",
    "test_mses = []\n",
    "train_maes = []\n",
    "test_maes = []\n",
    "train_r2s = []\n",
    "test_r2s = []\n",
    "\n",
    "for train_index, test_index in shuffle_split.split(X):\n",
    "    X_train, X_test = X.iloc[train_index], X.iloc[test_index]\n",
    "    y_train, y_test = y.iloc[train_index], y.iloc[test_index]\n",
    "    \n",
    "    dtree = DecisionTreeRegressor(**params_dtree, random_state=42).fit(X_train, y_train)\n",
    "\n",
    "    y_train_pred = dtree.predict(X_train)\n",
    "    y_test_pred = dtree.predict(X_test)\n",
    "\n",
    "    # calculating metrics for train and test sets\n",
    "    train_score = dtree.score(X_train, y_train)\n",
    "    test_score = dtree.score(X_test, y_test)\n",
    "\n",
    "    train_mse = mean_squared_error(y_train, y_train_pred)\n",
    "    test_mse = mean_squared_error(y_test, y_test_pred)\n",
    "\n",
    "    train_mae = mean_absolute_error(y_train, y_train_pred)\n",
    "    test_mae = mean_absolute_error(y_test, y_test_pred)\n",
    "\n",
    "    train_r2 = r2_score(y_train, y_train_pred)\n",
    "    test_r2 = r2_score(y_test, y_test_pred)\n",
    "\n",
    "    # append metrics to lists\n",
    "    train_scores.append(train_score)\n",
    "    test_scores.append(test_score)\n",
    "    train_mses.append(train_mse)\n",
    "    test_mses.append(test_mse)\n",
    "    train_maes.append(train_mae)\n",
    "    test_maes.append(test_mae)\n",
    "    train_r2s.append(train_r2)\n",
    "    test_r2s.append(test_r2)\n",
    "\n",
    "# average the metrics over all splits\n",
    "avg_train_score = np.mean(train_scores)\n",
    "avg_test_score = np.mean(test_scores)\n",
    "avg_train_mse = np.mean(train_mses)\n",
    "avg_test_mse = np.mean(test_mses)\n",
    "avg_train_mae = np.mean(train_maes)\n",
    "avg_test_mae = np.mean(test_maes)\n",
    "avg_train_r2 = np.mean(train_r2s)\n",
    "avg_test_r2 = np.mean(test_r2s)\n",
    "\n",
    "\n",
    "# displaying metrics in a grid\n",
    "metrics_df = pd.DataFrame({\n",
    "    'Metric': ['Score', 'MSE', 'MAE', 'R2'],\n",
    "    'Train Data': [format_score(avg_train_score), avg_train_mse, avg_train_mae, avg_train_r2],\n",
    "    'Test Data': [format_score(avg_test_score), avg_test_mse, avg_test_mae, avg_test_r2]\n",
    "})\n",
    "\n",
    "print(metrics_df)"
   ]
  },
  {
   "cell_type": "code",
   "execution_count": 86,
   "metadata": {},
   "outputs": [
    {
     "name": "stderr",
     "output_type": "stream",
     "text": [
      "c:\\Users\\User\\AppData\\Local\\Programs\\Python\\Python311\\Lib\\site-packages\\seaborn\\_oldcore.py:1498: FutureWarning: is_categorical_dtype is deprecated and will be removed in a future version. Use isinstance(dtype, CategoricalDtype) instead\n",
      "  if pd.api.types.is_categorical_dtype(vector):\n",
      "c:\\Users\\User\\AppData\\Local\\Programs\\Python\\Python311\\Lib\\site-packages\\seaborn\\_oldcore.py:1498: FutureWarning: is_categorical_dtype is deprecated and will be removed in a future version. Use isinstance(dtype, CategoricalDtype) instead\n",
      "  if pd.api.types.is_categorical_dtype(vector):\n",
      "c:\\Users\\User\\AppData\\Local\\Programs\\Python\\Python311\\Lib\\site-packages\\seaborn\\_oldcore.py:1498: FutureWarning: is_categorical_dtype is deprecated and will be removed in a future version. Use isinstance(dtype, CategoricalDtype) instead\n",
      "  if pd.api.types.is_categorical_dtype(vector):\n"
     ]
    },
    {
     "data": {
      "image/png": "[encoded data removed]",
      "text/plain": [
       "<Figure size 800x600 with 1 Axes>"
      ]
     },
     "metadata": {},
     "output_type": "display_data"
    }
   ],
   "source": [
    "# plot for feature importance\n",
    "rankings = ml_model.feature_importances_.tolist()\n",
    "importance = pd.DataFrame(sorted(zip(X_train.columns, rankings),\n",
    "                            reverse=True), columns=[\"feature\", \"importance\"]).sort_values(\"importance\",ascending = False)\n",
    "\n",
    "plt.figure(figsize=(8,6))\n",
    "sns.barplot(x=\"importance\",\n",
    "            y=\"feature\",\n",
    "            data=importance[:8])\n",
    "\n",
    "# add R2 values above each bar\n",
    "for i, v in enumerate(importance['importance'][:8]):\n",
    "    plt.text(v, i, f'{v:.4f}', ha='left', va='center', color='black')\n",
    "\n",
    "plt.title('Feature Importance for Decision Tree Tuned Regressor')\n",
    "plt.tight_layout()\n",
    "\n",
    "# save as image to file\n",
    "plt.savefig('D:/programming/information-technologies-of-smart-systems/term-paper/models/feature_dtree_tuned_importance.png', format='png', dpi=300)\n",
    "\n",
    "plt.show()"
   ]
  },
  {
   "cell_type": "code",
   "execution_count": 87,
   "metadata": {},
   "outputs": [],
   "source": [
    "# define the file path\n",
    "file_path = 'D:/programming/information-technologies-of-smart-systems/term-paper/models/decision-tree-metrics.csv'"
   ]
  },
  {
   "cell_type": "code",
   "execution_count": 88,
   "metadata": {},
   "outputs": [],
   "source": [
    "# save the DataFrame to a CSV file\n",
    "metrics_df.to_csv(file_path, index=False)"
   ]
  },
  {
   "cell_type": "code",
   "execution_count": 89,
   "metadata": {},
   "outputs": [
    {
     "name": "stdout",
     "output_type": "stream",
     "text": [
      "Metrics have been saved to: D:/programming/information-technologies-of-smart-systems/term-paper/models/decision-tree-metrics.csv\n"
     ]
    }
   ],
   "source": [
    "# print a message confirming the file has been saved\n",
    "print(\"Metrics have been saved to:\", file_path)"
   ]
  },
  {
   "cell_type": "code",
   "execution_count": 55,
   "metadata": {},
   "outputs": [],
   "source": [
    "# filepath for main trained model\n",
    "dtree_final_path = 'D:/programming/information-technologies-of-smart-systems/term-paper/models/finalized_dtree_model.sav'"
   ]
  },
  {
   "cell_type": "code",
   "execution_count": 56,
   "metadata": {},
   "outputs": [],
   "source": [
    "# save main trained Decision Tree Regressor model\n",
    "with open(dtree_final_path, 'wb') as file:\n",
    "    pickle.dump(dtree, file)"
   ]
  },
  {
   "cell_type": "markdown",
   "metadata": {},
   "source": [
    "### Tuned XGB Regressor"
   ]
  },
  {
   "cell_type": "code",
   "execution_count": 57,
   "metadata": {},
   "outputs": [],
   "source": [
    "# split data \n",
    "X_train, X_test, y_train, y_test = train_test_split(X, y, test_size=0.2, random_state=42)"
   ]
  },
  {
   "cell_type": "code",
   "execution_count": 58,
   "metadata": {},
   "outputs": [
    {
     "name": "stdout",
     "output_type": "stream",
     "text": [
      "<class 'pandas.core.frame.DataFrame'>\n"
     ]
    }
   ],
   "source": [
    "# check type of y_train\n",
    "print(type(y_train))"
   ]
  },
  {
   "cell_type": "code",
   "execution_count": 59,
   "metadata": {},
   "outputs": [],
   "source": [
    "# convert data to Series\n",
    "if isinstance(y_train, pd.DataFrame):\n",
    "    y_train = y_train.iloc[:, 0]"
   ]
  },
  {
   "cell_type": "code",
   "execution_count": 60,
   "metadata": {},
   "outputs": [
    {
     "name": "stdout",
     "output_type": "stream",
     "text": [
      "<class 'pandas.core.series.Series'>\n"
     ]
    }
   ],
   "source": [
    "# check type of y_train\n",
    "print(type(y_train))"
   ]
  },
  {
   "cell_type": "code",
   "execution_count": 61,
   "metadata": {},
   "outputs": [
    {
     "name": "stdout",
     "output_type": "stream",
     "text": [
      "<class 'pandas.core.frame.DataFrame'>\n"
     ]
    }
   ],
   "source": [
    "# check type of y_train\n",
    "print(type(y_test))"
   ]
  },
  {
   "cell_type": "code",
   "execution_count": 62,
   "metadata": {},
   "outputs": [],
   "source": [
    "# convert data to Series\n",
    "if isinstance(y_test, pd.DataFrame):\n",
    "    y_test = y_test.iloc[:, 0]"
   ]
  },
  {
   "cell_type": "code",
   "execution_count": 63,
   "metadata": {},
   "outputs": [
    {
     "name": "stdout",
     "output_type": "stream",
     "text": [
      "<class 'pandas.core.series.Series'>\n"
     ]
    }
   ],
   "source": [
    "# check type of y_train\n",
    "print(type(y_test))"
   ]
  },
  {
   "cell_type": "code",
   "execution_count": 64,
   "metadata": {},
   "outputs": [
    {
     "name": "stdout",
     "output_type": "stream",
     "text": [
      "  Metric     Train Data       Test Data\n",
      "0  Score       0.995870        0.987094\n",
      "1    MSE  2131408.21267  6656399.631143\n",
      "2    MAE     753.869774     1269.008571\n",
      "3     R2        0.99587        0.987094\n"
     ]
    }
   ],
   "source": [
    "# initialize ShuffleSplit with desired parameters\n",
    "shuffle_split = ShuffleSplit(n_splits=5, test_size=0.2, random_state=42)\n",
    "\n",
    "# initialize lists to store evaluation metrics\n",
    "train_scores = []\n",
    "test_scores = []\n",
    "train_mses = []\n",
    "test_mses = []\n",
    "train_maes = []\n",
    "test_maes = []\n",
    "train_r2s = []\n",
    "test_r2s = []\n",
    "\n",
    "for train_index, test_index in shuffle_split.split(X):\n",
    "    X_train, X_test = X.iloc[train_index], X.iloc[test_index]\n",
    "    y_train, y_test = y.iloc[train_index], y.iloc[test_index]\n",
    "    \n",
    "    xgbr = xgb.XGBRegressor(**params_xgb, random_state=42).fit(X_train, y_train)\n",
    "\n",
    "    y_train_pred = xgbr.predict(X_train)\n",
    "    y_test_pred = xgbr.predict(X_test)\n",
    "\n",
    "    # calculating metrics for train and test sets\n",
    "    train_score = xgbr.score(X_train, y_train)\n",
    "    test_score = xgbr.score(X_test, y_test)\n",
    "\n",
    "    train_mse = mean_squared_error(y_train, y_train_pred)\n",
    "    test_mse = mean_squared_error(y_test, y_test_pred)\n",
    "\n",
    "    train_mae = mean_absolute_error(y_train, y_train_pred)\n",
    "    test_mae = mean_absolute_error(y_test, y_test_pred)\n",
    "\n",
    "    train_r2 = r2_score(y_train, y_train_pred)\n",
    "    test_r2 = r2_score(y_test, y_test_pred)\n",
    "\n",
    "    # append metrics to lists\n",
    "    train_scores.append(train_score)\n",
    "    test_scores.append(test_score)\n",
    "    train_mses.append(train_mse)\n",
    "    test_mses.append(test_mse)\n",
    "    train_maes.append(train_mae)\n",
    "    test_maes.append(test_mae)\n",
    "    train_r2s.append(train_r2)\n",
    "    test_r2s.append(test_r2)\n",
    "\n",
    "# average the metrics over all splits\n",
    "avg_train_score = np.mean(train_scores)\n",
    "avg_test_score = np.mean(test_scores)\n",
    "avg_train_mse = np.mean(train_mses)\n",
    "avg_test_mse = np.mean(test_mses)\n",
    "avg_train_mae = np.mean(train_maes)\n",
    "avg_test_mae = np.mean(test_maes)\n",
    "avg_train_r2 = np.mean(train_r2s)\n",
    "avg_test_r2 = np.mean(test_r2s)\n",
    "\n",
    "\n",
    "# displaying metrics in a grid\n",
    "metrics_df = pd.DataFrame({\n",
    "    'Metric': ['Score', 'MSE', 'MAE', 'R2'],\n",
    "    'Train Data': [format_score(avg_train_score), avg_train_mse, avg_train_mae, avg_train_r2],\n",
    "    'Test Data': [format_score(avg_test_score), avg_test_mse, avg_test_mae, avg_test_r2]\n",
    "})\n",
    "\n",
    "print(metrics_df)"
   ]
  },
  {
   "cell_type": "code",
   "execution_count": 101,
   "metadata": {},
   "outputs": [
    {
     "name": "stderr",
     "output_type": "stream",
     "text": [
      "c:\\Users\\User\\AppData\\Local\\Programs\\Python\\Python311\\Lib\\site-packages\\seaborn\\_oldcore.py:1498: FutureWarning: is_categorical_dtype is deprecated and will be removed in a future version. Use isinstance(dtype, CategoricalDtype) instead\n",
      "  if pd.api.types.is_categorical_dtype(vector):\n",
      "c:\\Users\\User\\AppData\\Local\\Programs\\Python\\Python311\\Lib\\site-packages\\seaborn\\_oldcore.py:1498: FutureWarning: is_categorical_dtype is deprecated and will be removed in a future version. Use isinstance(dtype, CategoricalDtype) instead\n",
      "  if pd.api.types.is_categorical_dtype(vector):\n",
      "c:\\Users\\User\\AppData\\Local\\Programs\\Python\\Python311\\Lib\\site-packages\\seaborn\\_oldcore.py:1498: FutureWarning: is_categorical_dtype is deprecated and will be removed in a future version. Use isinstance(dtype, CategoricalDtype) instead\n",
      "  if pd.api.types.is_categorical_dtype(vector):\n"
     ]
    },
    {
     "data": {
      "image/png": "[encoded data removed]",
      "text/plain": [
       "<Figure size 800x600 with 1 Axes>"
      ]
     },
     "metadata": {},
     "output_type": "display_data"
    }
   ],
   "source": [
    "# plot for feature importance\n",
    "rankings = ml_model.feature_importances_.tolist()\n",
    "importance = pd.DataFrame(sorted(zip(X_train.columns, rankings),\n",
    "                            reverse=True), columns=[\"feature\", \"importance\"]).sort_values(\"importance\",ascending = False)\n",
    "\n",
    "plt.figure(figsize=(8,6))\n",
    "sns.barplot(x=\"importance\",\n",
    "            y=\"feature\",\n",
    "            data=importance[:8])\n",
    "\n",
    "# add R2 values above each bar\n",
    "for i, v in enumerate(importance['importance'][:8]):\n",
    "    plt.text(v, i, f'{v:.4f}', ha='left', va='center', color='black')\n",
    "\n",
    "plt.title('Feature Importance for XGB Tuned Regressor')\n",
    "plt.tight_layout()\n",
    "\n",
    "# save as image to file\n",
    "plt.savefig('D:/programming/information-technologies-of-smart-systems/term-paper/models/feature_xgb_tuned_importance.png', format='png', dpi=300)\n",
    "\n",
    "plt.show()"
   ]
  },
  {
   "cell_type": "code",
   "execution_count": 65,
   "metadata": {},
   "outputs": [],
   "source": [
    "# define the file path\n",
    "file_path = 'D:/programming/information-technologies-of-smart-systems/term-paper/models/xgb-metrics.csv'"
   ]
  },
  {
   "cell_type": "code",
   "execution_count": 66,
   "metadata": {},
   "outputs": [],
   "source": [
    "# save the DataFrame to a CSV file\n",
    "metrics_df.to_csv(file_path, index=False)"
   ]
  },
  {
   "cell_type": "code",
   "execution_count": 67,
   "metadata": {},
   "outputs": [
    {
     "name": "stdout",
     "output_type": "stream",
     "text": [
      "Metrics have been saved to: D:/programming/information-technologies-of-smart-systems/term-paper/models/xgb-metrics.csv\n"
     ]
    }
   ],
   "source": [
    "# print a message confirming the file has been saved\n",
    "print(\"Metrics have been saved to:\", file_path)"
   ]
  },
  {
   "cell_type": "code",
   "execution_count": 68,
   "metadata": {},
   "outputs": [],
   "source": [
    "# filepath for main trained model\n",
    "xgb_final_path = 'D:/programming/information-technologies-of-smart-systems/term-paper/models/finalized_xgb_model.sav'"
   ]
  },
  {
   "cell_type": "code",
   "execution_count": 69,
   "metadata": {},
   "outputs": [],
   "source": [
    "# save main trained Decision Tree Regressor model\n",
    "with open(xgb_final_path, 'wb') as file:\n",
    "    pickle.dump(xgbr, file)"
   ]
  }
 ],
 "metadata": {
  "kernelspec": {
   "display_name": "Python 3",
   "language": "python",
   "name": "python3"
  },
  "language_info": {
   "codemirror_mode": {
    "name": "ipython",
    "version": 3
   },
   "file_extension": ".py",
   "mimetype": "text/x-python",
   "name": "python",
   "nbconvert_exporter": "python",
   "pygments_lexer": "ipython3",
   "version": "3.11.5"
  }
 },
 "nbformat": 4,
 "nbformat_minor": 2
}
