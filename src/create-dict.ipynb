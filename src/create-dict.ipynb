{
 "cells": [
  {
   "cell_type": "markdown",
   "metadata": {},
   "source": [
    "### This code demonstrates a creating dict for categorical features (encoding) in machine learning:\n",
    "1. The code starts by importing the pickle module, which is used for serializing and deserializing Python objects.\n",
    "2. A dictionary named data is defined, containing mappings for categorical variables such as 'sex', 'smoker', and 'region'. Each categorical variable is mapped to numerical values.\n",
    "3. The data dictionary is then serialized and stored in a binary file named param_dict.pickle using the pickle.dump() function.\n",
    "4. The file path for the stored data is defined as file_path.\n",
    "5. The stored data is then read back from the file using the pickle.load() function, and it's assigned to the variable param_dict.\n",
    "6. Finally, the loaded param_dict is printed to the console, displaying the mappings of categorical variables."
   ]
  },
  {
   "cell_type": "code",
   "execution_count": 1,
   "metadata": {},
   "outputs": [],
   "source": [
    "import pickle"
   ]
  },
  {
   "cell_type": "code",
   "execution_count": 2,
   "metadata": {},
   "outputs": [],
   "source": [
    "# define a dictionary containing mappings for categorical variables\n",
    "data = {\n",
    "    'map_dicts': {\n",
    "        'airline': {\n",
    "            'AirAsia': 0,\n",
    "            'Air_India': 1,\n",
    "            'GO_FIRST': 2,\n",
    "            'Indigo': 3,\n",
    "            'SpiceJet': 4,\n",
    "            'Vistara': 5\n",
    "        },\n",
    "        'flight_class': {\n",
    "            'Business': 0,\n",
    "            'Economy': 1\n",
    "        },\n",
    "        'source_city': {\n",
    "            'Bangalore': 0,\n",
    "            'Chennai': 1,\n",
    "            'Delhi': 2,\n",
    "            'Hyderabad': 3,\n",
    "            'Kolkata': 4,\n",
    "            'Mumbai': 5\n",
    "        },\n",
    "        'destination_city': {\n",
    "            'Bangalore': 0,\n",
    "            'Chennai': 1,\n",
    "            'Delhi': 2,\n",
    "            'Hyderabad': 3,\n",
    "            'Kolkata': 4,\n",
    "            'Mumbai': 5\n",
    "        },\n",
    "        'departure_time': {\n",
    "            'Afternoon': 0,\n",
    "            'Early_Morning': 1,\n",
    "            'Evening': 2,\n",
    "            'Late_Night': 3,\n",
    "            'Morning': 4,\n",
    "            'Night': 5\n",
    "        },\n",
    "        'arrival_time': {\n",
    "            'Afternoon': 0,\n",
    "            'Early_Morning': 1,\n",
    "            'Evening': 2,\n",
    "            'Late_Night': 3,\n",
    "            'Morning': 4,\n",
    "            'Night': 5\n",
    "        },\n",
    "        'stops': {\n",
    "            'zero' : 0,\n",
    "            'one' : 1,\n",
    "            'two_or_more' : 2\n",
    "        }\n",
    "    }\n",
    "}"
   ]
  },
  {
   "cell_type": "code",
   "execution_count": 3,
   "metadata": {},
   "outputs": [],
   "source": [
    "# filepath for dictionary\n",
    "dict_filepath = \"D:/programming/information-technologies-of-smart-systems/term-paper/src/param_dict.pickle\""
   ]
  },
  {
   "cell_type": "code",
   "execution_count": 4,
   "metadata": {},
   "outputs": [],
   "source": [
    "# save the dictionary containing mappings to a pickle file\n",
    "with open(dict_filepath, \"wb\") as f:\n",
    "    pickle.dump(data, f)"
   ]
  },
  {
   "cell_type": "code",
   "execution_count": 5,
   "metadata": {},
   "outputs": [
    {
     "name": "stdout",
     "output_type": "stream",
     "text": [
      "{'map_dicts': {'airline': {'AirAsia': 0, 'Air_India': 1, 'GO_FIRST': 2, 'Indigo': 3, 'SpiceJet': 4, 'Vistara': 5}, 'flight_class': {'Business': 0, 'Economy': 1}, 'source_city': {'Bangalore': 0, 'Chennai': 1, 'Delhi': 2, 'Hyderabad': 3, 'Kolkata': 4, 'Mumbai': 5}, 'destination_city': {'Bangalore': 0, 'Chennai': 1, 'Delhi': 2, 'Hyderabad': 3, 'Kolkata': 4, 'Mumbai': 5}, 'departure_time': {'Afternoon': 0, 'Early_Morning': 1, 'Evening': 2, 'Late_Night': 3, 'Morning': 4, 'Night': 5}, 'arrival_time': {'Afternoon': 0, 'Early_Morning': 1, 'Evening': 2, 'Late_Night': 3, 'Morning': 4, 'Night': 5}, 'stops': {'zero': 0, 'one': 1, 'two_or_more': 2}}}\n"
     ]
    }
   ],
   "source": [
    "# open file to read in binary mode\n",
    "file_path = r\"D:/programming/information-technologies-of-smart-systems/term-paper/src/param_dict.pickle\"\n",
    "\n",
    "with open(file_path, 'rb') as file:\n",
    "    # get data from file\n",
    "    param_dict = pickle.load(file)\n",
    "\n",
    "# print data to console\n",
    "print(param_dict)"
   ]
  }
 ],
 "metadata": {
  "kernelspec": {
   "display_name": "Python 3",
   "language": "python",
   "name": "python3"
  },
  "language_info": {
   "codemirror_mode": {
    "name": "ipython",
    "version": 3
   },
   "file_extension": ".py",
   "mimetype": "text/x-python",
   "name": "python",
   "nbconvert_exporter": "python",
   "pygments_lexer": "ipython3",
   "version": "3.11.5"
  }
 },
 "nbformat": 4,
 "nbformat_minor": 2
}
