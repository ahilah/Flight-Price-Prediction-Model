{
 "cells": [
  {
   "cell_type": "markdown",
   "metadata": {},
   "source": [
    "### This code demonstrates a data preprocessing step in machine learning:\n",
    "1. Splitting a dataset into training and testing sets for model evaluation. \n",
    "2. Save the split data into separate CSV files for further analysis or modeling.\n",
    "\n",
    "#### Explanation\n",
    "- Import Libraries. Import pandas for data manipulation and train_test_split from scikit-learn for splitting the dataset.\n",
    "- Define File Paths. Define variables containing the file paths for the dataset, training data, and new data.\n",
    "- Load Dataset. Load the dataset from the specified file path.\n",
    "- Define Features and Target. Specify the columns to be used as features (X_columns) and the target variable (y_column).\n",
    "- Split Dataset. Use train_test_split to split the dataset into training and testing sets. Here, 70% of the data is used for training (train_size=0.7).\n",
    "- Output Information. Print the shapes of the training and testing sets to check the size of the splits.\n",
    "Write to CSV: Save the training and testing sets to CSV files at the specified file paths."
   ]
  },
  {
   "cell_type": "code",
   "execution_count": 1,
   "metadata": {},
   "outputs": [],
   "source": [
    "# import necessary libraries for i/o and split data\n",
    "import pandas as pd\n",
    "from sklearn.model_selection import train_test_split"
   ]
  },
  {
   "cell_type": "code",
   "execution_count": 3,
   "metadata": {},
   "outputs": [],
   "source": [
    "# define file paths\n",
    "data_file_path = \"D:/programming/information-technologies-of-smart-systems/term-paper/data/Clean_Dataset.csv\"\n",
    "train_data_file_path = \"D:/programming/information-technologies-of-smart-systems/term-paper/data/final/train_data.csv\"\n",
    "new_data_file_path = \"D:/programming/information-technologies-of-smart-systems/term-paper/data/final/new_data.csv\""
   ]
  },
  {
   "cell_type": "code",
   "execution_count": 4,
   "metadata": {},
   "outputs": [],
   "source": [
    "# read the whole dataset from a CSV file\n",
    "ds = pd.read_csv(data_file_path)"
   ]
  },
  {
   "cell_type": "code",
   "execution_count": 5,
   "metadata": {},
   "outputs": [
    {
     "data": {
      "text/plain": [
       "Index(['Unnamed: 0', 'airline', 'flight', 'source_city', 'departure_time',\n",
       "       'stops', 'arrival_time', 'destination_city', 'class', 'duration',\n",
       "       'days_left', 'price'],\n",
       "      dtype='object')"
      ]
     },
     "execution_count": 5,
     "metadata": {},
     "output_type": "execute_result"
    }
   ],
   "source": [
    "ds.columns"
   ]
  },
  {
   "cell_type": "code",
   "execution_count": 6,
   "metadata": {},
   "outputs": [],
   "source": [
    "y_column = ['price'] # target variable\n",
    "X_columns = ['Unnamed: 0', 'airline', 'flight', 'source_city', 'departure_time',\n",
    "       'stops', 'arrival_time', 'destination_city', 'class', 'duration',\n",
    "       'days_left']   # define the feature columns"
   ]
  },
  {
   "cell_type": "code",
   "execution_count": 11,
   "metadata": {},
   "outputs": [],
   "source": [
    "# split the dataset into training and testing sets\n",
    "X_train, X_test = train_test_split(ds, train_size=0.7)"
   ]
  },
  {
   "cell_type": "code",
   "execution_count": 12,
   "metadata": {},
   "outputs": [
    {
     "name": "stdout",
     "output_type": "stream",
     "text": [
      "Training set shape: (210107, 12)\n"
     ]
    }
   ],
   "source": [
    "# output the shape of the training set\n",
    "print(\"Training set shape:\", X_train.shape)"
   ]
  },
  {
   "cell_type": "code",
   "execution_count": 13,
   "metadata": {},
   "outputs": [
    {
     "name": "stdout",
     "output_type": "stream",
     "text": [
      "Training set shape: (90046, 12)\n"
     ]
    }
   ],
   "source": [
    "# output the shape of the test set\n",
    "print(\"Training set shape:\", X_test.shape)"
   ]
  },
  {
   "cell_type": "code",
   "execution_count": 14,
   "metadata": {},
   "outputs": [],
   "source": [
    "# save the training data to a CSV file\n",
    "X_train.to_csv(train_data_file_path, index=False)"
   ]
  },
  {
   "cell_type": "code",
   "execution_count": 15,
   "metadata": {},
   "outputs": [
    {
     "name": "stdout",
     "output_type": "stream",
     "text": [
      "Testing set shape: (90046, 12)\n"
     ]
    }
   ],
   "source": [
    "# output the shape of the testing set\n",
    "print(\"Testing set shape:\", X_test.shape)"
   ]
  },
  {
   "cell_type": "code",
   "execution_count": 16,
   "metadata": {},
   "outputs": [],
   "source": [
    "# save the testing data to a CSV file (with only selected feature columns)\n",
    "X_test[X_columns].to_csv(new_data_file_path, index=False)"
   ]
  }
 ],
 "metadata": {
  "kernelspec": {
   "display_name": "Python 3",
   "language": "python",
   "name": "python3"
  },
  "language_info": {
   "codemirror_mode": {
    "name": "ipython",
    "version": 3
   },
   "file_extension": ".py",
   "mimetype": "text/x-python",
   "name": "python",
   "nbconvert_exporter": "python",
   "pygments_lexer": "ipython3",
   "version": "3.11.5"
  }
 },
 "nbformat": 4,
 "nbformat_minor": 2
}
